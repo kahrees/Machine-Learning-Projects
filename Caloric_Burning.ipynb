{
 "cells": [
  {
   "cell_type": "markdown",
   "id": "4dfc3a5e",
   "metadata": {},
   "source": [
    "# Load Data\n"
   ]
  },
  {
   "cell_type": "code",
   "execution_count": null,
   "id": "060da673",
   "metadata": {},
   "outputs": [],
   "source": [
    "#Imports\n",
    "\n",
    "import seaborn as sns\n",
    "import numpy as np\n",
    "import pandas as pd\n",
    "import matplotlib.pyplot as plt\n",
    "\n",
    "\n",
    "import warnings\n",
    "warnings.filterwarnings('ignore')"
   ]
  },
  {
   "cell_type": "code",
   "execution_count": null,
   "id": "24b3a459",
   "metadata": {},
   "outputs": [],
   "source": [
    "#Load Data (with saved file)\n",
    "\n",
    "train = pd.read_csv(\"train.csv\",index_col='id') \n",
    "test = pd.read_csv(\"test.csv\",index_col='id') "
   ]
  },
  {
   "cell_type": "code",
   "execution_count": null,
   "id": "8980e186",
   "metadata": {},
   "outputs": [],
   "source": [
    "#Load Data (With API)\n",
    "# train = pd.read_csv('/kaggle/input/playground-series-s5e5/train.csv',index_col='id')\n",
    "# test = pd.read_csv('/kaggle/input/playground-series-s5e5/test.csv',index_col='id')"
   ]
  },
  {
   "cell_type": "markdown",
   "id": "d1949964",
   "metadata": {},
   "source": [
    "## Summaries"
   ]
  },
  {
   "cell_type": "code",
   "execution_count": null,
   "id": "508d9d49",
   "metadata": {},
   "outputs": [],
   "source": [
    "#First Six Rows\n",
    "print(train.head())"
   ]
  },
  {
   "cell_type": "code",
   "execution_count": null,
   "id": "1e3aef76",
   "metadata": {},
   "outputs": [],
   "source": [
    "#First Six Rows of Test\n",
    "print(test.head())"
   ]
  },
  {
   "cell_type": "markdown",
   "id": "a0092855",
   "metadata": {},
   "source": [
    "'Sex' is the only categorical feature. 'id' has been shifted into proper index and not a column"
   ]
  },
  {
   "cell_type": "code",
   "execution_count": null,
   "id": "1502b7d1",
   "metadata": {},
   "outputs": [],
   "source": [
    "#Find out how many rows\n",
    "train.shape"
   ]
  },
  {
   "cell_type": "code",
   "execution_count": null,
   "id": "2706d022",
   "metadata": {},
   "outputs": [],
   "source": [
    "test.shape"
   ]
  },
  {
   "cell_type": "markdown",
   "id": "7868f3fd",
   "metadata": {},
   "source": [
    "### Preliminary Cleaning"
   ]
  },
  {
   "cell_type": "code",
   "execution_count": null,
   "id": "3c211f04",
   "metadata": {},
   "outputs": [],
   "source": [
    "# Check for missing values\n",
    "\n",
    "missing = train.isnull().sum()\n",
    "\n",
    "print(\"Missing values in each column:\")\n",
    "print (missing)"
   ]
  },
  {
   "cell_type": "code",
   "execution_count": null,
   "id": "b8c552a4",
   "metadata": {},
   "outputs": [],
   "source": [
    "test.isna().sum()"
   ]
  },
  {
   "cell_type": "markdown",
   "id": "03aef6b6",
   "metadata": {},
   "source": [
    "No missing values in either data frame. Both sets are high quality"
   ]
  },
  {
   "cell_type": "code",
   "execution_count": null,
   "id": "9797f73b",
   "metadata": {},
   "outputs": [],
   "source": [
    "# Remove duplicate rows\n",
    "train = train.drop_duplicates( )\n",
    "print(\"DataFrame after removing duplicates: \")\n",
    "print(train.info())"
   ]
  },
  {
   "cell_type": "markdown",
   "id": "ac93b532",
   "metadata": {},
   "source": [
    "After removing duplicates, the count of rows drops down by 2,841 (From 750,000 to 747,159)"
   ]
  },
  {
   "cell_type": "code",
   "execution_count": null,
   "id": "990b6da8",
   "metadata": {},
   "outputs": [],
   "source": [
    "train.describe()"
   ]
  },
  {
   "cell_type": "code",
   "execution_count": null,
   "id": "04372947",
   "metadata": {},
   "outputs": [],
   "source": [
    "test.describe()"
   ]
  },
  {
   "cell_type": "markdown",
   "id": "bf44c3b8",
   "metadata": {},
   "source": [
    "Now, let's begin"
   ]
  },
  {
   "cell_type": "markdown",
   "id": "ba1ad830",
   "metadata": {},
   "source": [
    "# Exploratory Data Analysis"
   ]
  },
  {
   "cell_type": "markdown",
   "id": "29c13c95",
   "metadata": {},
   "source": [
    "Histogram to visualize distribution of numerical columns."
   ]
  },
  {
   "cell_type": "code",
   "execution_count": null,
   "id": "e8e08428",
   "metadata": {},
   "outputs": [],
   "source": [
    "train_new = train.select_dtypes(exclude='object') #Removes Categorical Columns (in this case, 'Sex')\n",
    "\n",
    "#for loop that plots a new histogram for each column left\n",
    "for column in train_new:\n",
    "    fig, ax = plt.subplots(figsize=(18, 5))\n",
    "    fig = sns.histplot(data=train_new, x=column, bins=50, kde=True)\n",
    "    plt.show()"
   ]
  },
  {
   "cell_type": "markdown",
   "id": "ebb0b764",
   "metadata": {},
   "source": [
    "Most features are either left or right skewed but some possess more normal distributions, ie more values around the centre"
   ]
  },
  {
   "cell_type": "markdown",
   "id": "832aa7a4",
   "metadata": {},
   "source": [
    "## Distribution Plots"
   ]
  },
  {
   "cell_type": "code",
   "execution_count": null,
   "id": "4800ebae",
   "metadata": {},
   "outputs": [],
   "source": [
    "# Distribution Plot\n",
    "\n",
    "sns.displot(train, x=\"Calories\", hue=\"Sex\", multiple=\"dodge\")\n",
    "\n",
    "sns.displot(train, x=\"Calories\", hue=\"Sex\", kind=\"kde\")\n"
   ]
  },
  {
   "cell_type": "markdown",
   "id": "22344b40",
   "metadata": {},
   "source": [
    "Sex seems to influence Calories"
   ]
  },
  {
   "cell_type": "markdown",
   "id": "6ee7b654",
   "metadata": {},
   "source": [
    "Determine if 'test' and 'train' have similar distributions for each feature. This will help explain if the model fitted on train will work well on test"
   ]
  },
  {
   "cell_type": "code",
   "execution_count": null,
   "id": "a415ff02",
   "metadata": {},
   "outputs": [],
   "source": [
    "cols = ['Age', 'Height', 'Weight', 'Duration', 'Heart_Rate', 'Body_Temp']\n",
    "fig, ax = plt.subplots(4,2,figsize=(8,18))\n",
    "ax = ax.flatten()\n",
    "for i,col in enumerate(cols):\n",
    "    sns.kdeplot(data=train,x=col,ax=ax[i])\n",
    "    sns.kdeplot(data=test,x=col,color='r',ax=ax[i])\n",
    "    ax[i].set_yticks([])\n",
    "    ax[i].set_title(col)\n",
    "\n",
    "sns.kdeplot(data=train,x='Calories',ax=ax[-1])\n",
    "ax[-1].set_yticks([])\n",
    "ax[-1].set_title('Calories')\n",
    "\n",
    "plt.suptitle('Distributions')\n",
    "plt.tight_layout()\n",
    "plt.show()"
   ]
  },
  {
   "cell_type": "markdown",
   "id": "5afd6811",
   "metadata": {},
   "source": [
    "### Correlation Matrix"
   ]
  },
  {
   "cell_type": "code",
   "execution_count": null,
   "id": "c5b5727e",
   "metadata": {},
   "outputs": [],
   "source": [
    "plt.figure(figsize = (30,20))\n",
    "sns.heatmap(train.corr(numeric_only = True), annot = True, cmap = 'Reds')\n",
    "plt.show"
   ]
  },
  {
   "cell_type": "markdown",
   "id": "f6356dd5",
   "metadata": {},
   "source": [
    "Calories is strongly correlated with Duration, Heart Rate, Body Temperature."
   ]
  },
  {
   "cell_type": "markdown",
   "id": "1b98173f",
   "metadata": {},
   "source": [
    "Domain Knowledge: Age has an effect on calories lost because muscle definition and retention lessens. The rate of calories burned slows. Essentially, a 20 year old looking to lose 100 calories in a workout will not need as much intensity as a 40 year-old who wishes to do the same."
   ]
  },
  {
   "cell_type": "markdown",
   "id": "ea554d10",
   "metadata": {},
   "source": [
    "### Violinplots"
   ]
  },
  {
   "cell_type": "code",
   "execution_count": null,
   "id": "c3510d06",
   "metadata": {},
   "outputs": [],
   "source": [
    "sns.violinplot(x=train[\"Age\"], inner=\"quart\")"
   ]
  },
  {
   "cell_type": "code",
   "execution_count": null,
   "id": "6fbbc7d9",
   "metadata": {},
   "outputs": [],
   "source": [
    "sns.violinplot(x=train[\"Body_Temp\"], inner=\"quart\")"
   ]
  },
  {
   "cell_type": "code",
   "execution_count": null,
   "id": "19f4876a",
   "metadata": {},
   "outputs": [],
   "source": [
    "sns.violinplot(x=train[\"Duration\"], inner=\"quart\")"
   ]
  },
  {
   "cell_type": "code",
   "execution_count": null,
   "id": "fbc09779",
   "metadata": {},
   "outputs": [],
   "source": [
    "sns.violinplot(x=train[\"Heart_Rate\"], inner=\"quart\")"
   ]
  },
  {
   "cell_type": "markdown",
   "id": "ae97a140",
   "metadata": {},
   "source": [
    "I started with Multiple Linear Regressions and had a bunch of different results. I then applied back selection but the mean squared error didn't budge significantly even though I combined domain knowledge with back selection, recursive feature selection, test-train split and the correlation matrix.\n",
    "This led to me utiliing the Decision Tree Regressor instead."
   ]
  },
  {
   "cell_type": "markdown",
   "id": "dff3031f",
   "metadata": {},
   "source": [
    "# Feature Engineering"
   ]
  },
  {
   "cell_type": "markdown",
   "id": "cf5ec063",
   "metadata": {},
   "source": [
    "### Binning the Gender"
   ]
  },
  {
   "cell_type": "code",
   "execution_count": null,
   "id": "0ff02db2",
   "metadata": {},
   "outputs": [],
   "source": [
    "train_bin = pd.get_dummies(train, columns=['Sex'], drop_first=True, dtype=int) #Removes the Sex Column while adding a One Hot Encoded sex column\n",
    "print(train_bin.head())"
   ]
  },
  {
   "cell_type": "code",
   "execution_count": null,
   "id": "90823159",
   "metadata": {},
   "outputs": [],
   "source": [
    "y = train['Calories']\n",
    "X = train_bin.drop('Calories', axis=1)"
   ]
  },
  {
   "cell_type": "markdown",
   "id": "375fefdb",
   "metadata": {},
   "source": [
    "### Ading New Columns"
   ]
  },
  {
   "cell_type": "code",
   "execution_count": null,
   "id": "c9fa685d",
   "metadata": {},
   "outputs": [],
   "source": [
    "# Creating a column BMI\n",
    "X[\"BMI\"] = X[\"Weight\"]/(X[\"Height\"]/100)**2\n",
    "\n",
    "#Create a Column Intensity\n",
    "X[\"Intensity\"] = X[\"Duration\"] * X[\"Heart_Rate\"]\n",
    "\n",
    "#Create a Column Weight-Based Intensity\n",
    "X[\"Weight-Based Intensity\"] = X[\"Duration\"] * X[\"Heart_Rate\"] * X[\"Weight\"]\n"
   ]
  },
  {
   "cell_type": "markdown",
   "id": "3eb407e1",
   "metadata": {},
   "source": [
    "The cell below is code for a proposed column called Metabolic Rate that incorporates age and gender into the calculations but the memory involved was too large.\n",
    "Output: Unable to allocate 5.70 MiB for an array with shape (747159,) and data type float64"
   ]
  },
  {
   "cell_type": "code",
   "execution_count": null,
   "id": "cda5f740",
   "metadata": {},
   "outputs": [],
   "source": [
    "# def BMR_male(weight, height, age):\n",
    "#     BMR_m = 88.362 + (13.397 * weight) + (4.799 * height) - (5.677 * age)\n",
    "#     return BMR_m\n",
    "\n",
    "# def BMR_female(weight, height, age):\n",
    "#     BMR_f = 447.593 + (9.247 * weight) + (3.098 * height) - (4.33 * age)\n",
    "#     return BMR_f\n",
    "\n",
    "# X[\"Metabolic Rate\"] = [BMR_male(X[\"Weight\"], X[\"Height\"], X[\"Age\"]) if sm == 1 else BMR_female(X[\"Weight\"], X[\"Height\"], X[\"Age\"]) for sm in X[\"Sex_male\"]]"
   ]
  },
  {
   "cell_type": "code",
   "execution_count": null,
   "id": "b4f009a2",
   "metadata": {},
   "outputs": [],
   "source": [
    "#FE for Test\n",
    "\n",
    "\n",
    "#Load Test and do the same binning to make things smoother\n",
    "test_bin = pd.get_dummies(test, columns=['Sex'], drop_first=True, dtype=int)\n",
    "\n",
    "# Creating a column BMI\n",
    "test_bin[\"BMI\"] = test_bin[\"Weight\"]/(test_bin[\"Height\"]/100)**2\n",
    "\n",
    "#Create a Column Intensity\n",
    "test_bin[\"Intensity\"] = test_bin[\"Duration\"] * test_bin[\"Heart_Rate\"]\n",
    "\n",
    "#Create a Column Weight-Based Intensity\n",
    "test_bin[\"Weight-Based Intensity\"] = test_bin[\"Duration\"] * test_bin[\"Heart_Rate\"] * test_bin[\"Weight\"]"
   ]
  },
  {
   "cell_type": "code",
   "execution_count": null,
   "id": "9c271e8f",
   "metadata": {},
   "outputs": [],
   "source": [
    "#Print\n",
    "X.head()\n"
   ]
  },
  {
   "cell_type": "code",
   "execution_count": null,
   "id": "b7c3e814",
   "metadata": {},
   "outputs": [],
   "source": [
    "test_bin.head()"
   ]
  },
  {
   "cell_type": "code",
   "execution_count": null,
   "id": "c774e1b0",
   "metadata": {},
   "outputs": [],
   "source": [
    "y.head()"
   ]
  },
  {
   "cell_type": "markdown",
   "id": "492d5bd7",
   "metadata": {},
   "source": [
    "### Scaling"
   ]
  },
  {
   "cell_type": "markdown",
   "id": "1e213a8d",
   "metadata": {},
   "source": [
    "While testing different methods, I discovered scaling has a negligible effect om decision tree regressors so I will not be doing that here.\n",
    "\n",
    "However, when previously using the Multiple Linear Regression Model, Robust Scaling and Min-Max Scaling had the best effects."
   ]
  },
  {
   "cell_type": "markdown",
   "id": "62e1ef23",
   "metadata": {},
   "source": [
    "# The Model"
   ]
  },
  {
   "cell_type": "markdown",
   "id": "331df58d",
   "metadata": {},
   "source": [
    "During testing, decision tree regressors gave the lowest (positive) mean absolute error."
   ]
  },
  {
   "cell_type": "code",
   "execution_count": null,
   "id": "e43e4d30",
   "metadata": {},
   "outputs": [],
   "source": [
    "#Model Import\n",
    "\n",
    "from sklearn.tree import DecisionTreeRegressor\n",
    "from sklearn.model_selection import train_test_split\n",
    "from sklearn.metrics import mean_absolute_error\n",
    "from sklearn.model_selection import KFold"
   ]
  },
  {
   "cell_type": "markdown",
   "id": "e6034479",
   "metadata": {},
   "source": [
    "### Fit the Model"
   ]
  },
  {
   "cell_type": "code",
   "execution_count": null,
   "id": "bc47bc46",
   "metadata": {},
   "outputs": [],
   "source": [
    "train_X, val_X, train_y, val_y = train_test_split(X, y, random_state = 0)\n",
    "# Define model\n",
    "model = DecisionTreeRegressor(max_leaf_nodes = 5000)\n",
    "# Fit model\n",
    "model.fit(train_X, train_y)"
   ]
  },
  {
   "cell_type": "markdown",
   "id": "82b1e5c2",
   "metadata": {},
   "source": [
    "### Test the Model"
   ]
  },
  {
   "cell_type": "code",
   "execution_count": null,
   "id": "a978cf9c",
   "metadata": {},
   "outputs": [],
   "source": [
    "#Model Accuracy\n",
    "\n",
    "predicted_calories = model.predict(X)\n",
    "mean_absolute_error(y, predicted_calories)\n",
    "\n",
    "# get predicted prices on validation data\n",
    "val_predictions = model.predict(val_X)\n",
    "print(mean_absolute_error(val_y, val_predictions))"
   ]
  },
  {
   "cell_type": "code",
   "execution_count": null,
   "id": "c414f5b9",
   "metadata": {},
   "outputs": [],
   "source": [
    "#Cross Validation\n",
    "\n",
    "k = 10\n",
    "kf = KFold(n_splits=k, shuffle=True, random_state=42)\n",
    "\n",
    "\n",
    "from sklearn.model_selection import cross_val_score \n",
    "scores = cross_val_score(model, X, y, cv=kf, scoring='r2')\n",
    "\n",
    "average_r2 = np.mean(scores) \n",
    "\n",
    "print(f\"R² Score for each fold: {[round(score, 4) for score in scores]}\")\n",
    "print(f\"Average R² across {k} folds: {average_r2:.2f}\")\n",
    "\n",
    "\n",
    "\n",
    "\n",
    "scores2 = cross_val_score(model, X, y, cv=kf, scoring='neg_root_mean_squared_log_error')\n",
    "\n",
    "average_rmsle = np.mean(scores2) \n",
    "\n",
    "print(f\"RMSLE Score for each fold: {[round(score, 4) for score in scores2]}\")\n",
    "print(f\"Average RMSLE across {k} folds: {average_rmsle:.2f}\")"
   ]
  },
  {
   "cell_type": "markdown",
   "id": "06adf594",
   "metadata": {},
   "source": [
    "### Test With test.csv"
   ]
  },
  {
   "cell_type": "markdown",
   "id": "e3fbcd84",
   "metadata": {},
   "source": [
    "Submission"
   ]
  },
  {
   "cell_type": "code",
   "execution_count": null,
   "id": "b60897f0",
   "metadata": {},
   "outputs": [],
   "source": [
    "test['Calories'] = model.predict(test_bin)\n",
    "test['Calories'].to_csv(f'FinalCalorieSubmission.csv')"
   ]
  }
 ],
 "metadata": {
  "kernelspec": {
   "display_name": "Python 3",
   "language": "python",
   "name": "python3"
  },
  "language_info": {
   "codemirror_mode": {
    "name": "ipython",
    "version": 3
   },
   "file_extension": ".py",
   "mimetype": "text/x-python",
   "name": "python",
   "nbconvert_exporter": "python",
   "pygments_lexer": "ipython3",
   "version": "3.13.3"
  }
 },
 "nbformat": 4,
 "nbformat_minor": 5
}
